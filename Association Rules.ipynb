{
 "cells": [
  {
   "cell_type": "code",
   "execution_count": 1,
   "id": "9db0ab4c-945f-4873-80ac-ed320175ad5c",
   "metadata": {},
   "outputs": [],
   "source": [
    "import pandas as pd\n",
    "from mlxtend.preprocessing import TransactionEncoder\n",
    "from mlxtend.frequent_patterns import apriori, association_rules"
   ]
  },
  {
   "cell_type": "code",
   "execution_count": 2,
   "id": "309c8f44-dca5-4057-8b82-92f58fc5ff78",
   "metadata": {},
   "outputs": [
    {
     "data": {
      "text/html": [
       "<div>\n",
       "<style scoped>\n",
       "    .dataframe tbody tr th:only-of-type {\n",
       "        vertical-align: middle;\n",
       "    }\n",
       "\n",
       "    .dataframe tbody tr th {\n",
       "        vertical-align: top;\n",
       "    }\n",
       "\n",
       "    .dataframe thead th {\n",
       "        text-align: right;\n",
       "    }\n",
       "</style>\n",
       "<table border=\"1\" class=\"dataframe\">\n",
       "  <thead>\n",
       "    <tr style=\"text-align: right;\">\n",
       "      <th></th>\n",
       "      <th>shrimp,almonds,avocado,vegetables mix,green grapes,whole weat flour,yams,cottage cheese,energy drink,tomato juice,low fat yogurt,green tea,honey,salad,mineral water,salmon,antioxydant juice,frozen smoothie,spinach,olive oil</th>\n",
       "    </tr>\n",
       "  </thead>\n",
       "  <tbody>\n",
       "    <tr>\n",
       "      <th>0</th>\n",
       "      <td>burgers,meatballs,eggs</td>\n",
       "    </tr>\n",
       "    <tr>\n",
       "      <th>1</th>\n",
       "      <td>chutney</td>\n",
       "    </tr>\n",
       "    <tr>\n",
       "      <th>2</th>\n",
       "      <td>turkey,avocado</td>\n",
       "    </tr>\n",
       "    <tr>\n",
       "      <th>3</th>\n",
       "      <td>mineral water,milk,energy bar,whole wheat rice...</td>\n",
       "    </tr>\n",
       "    <tr>\n",
       "      <th>4</th>\n",
       "      <td>low fat yogurt</td>\n",
       "    </tr>\n",
       "  </tbody>\n",
       "</table>\n",
       "</div>"
      ],
      "text/plain": [
       "  shrimp,almonds,avocado,vegetables mix,green grapes,whole weat flour,yams,cottage cheese,energy drink,tomato juice,low fat yogurt,green tea,honey,salad,mineral water,salmon,antioxydant juice,frozen smoothie,spinach,olive oil\n",
       "0                             burgers,meatballs,eggs                                                                                                                                                                             \n",
       "1                                            chutney                                                                                                                                                                             \n",
       "2                                     turkey,avocado                                                                                                                                                                             \n",
       "3  mineral water,milk,energy bar,whole wheat rice...                                                                                                                                                                             \n",
       "4                                     low fat yogurt                                                                                                                                                                             "
      ]
     },
     "execution_count": 2,
     "metadata": {},
     "output_type": "execute_result"
    }
   ],
   "source": [
    "# Load the dataset\n",
    "df= pd.read_excel('Online retail.xlsx')\n",
    "df.head()"
   ]
  },
  {
   "cell_type": "code",
   "execution_count": 4,
   "id": "323e0975-8859-427d-9f47-e7583a7220ca",
   "metadata": {},
   "outputs": [],
   "source": [
    "# Convert the data to a list of lists (transactions)\n",
    "transactions = [row.split(',') for row in df.iloc[:, 0].astype(str).tolist()]"
   ]
  },
  {
   "cell_type": "code",
   "execution_count": 5,
   "id": "bd8bc1e1-cfd6-4a4b-8046-4f696e61a1ed",
   "metadata": {},
   "outputs": [],
   "source": [
    "# Remove leading/trailing spaces from items\n",
    "transactions = [[item.strip() for item in transaction] for transaction in transactions]"
   ]
  },
  {
   "cell_type": "code",
   "execution_count": 6,
   "id": "71746790-87b9-44ef-baf6-cbea0cd01eab",
   "metadata": {},
   "outputs": [],
   "source": [
    "# Use TransactionEncoder to one-hot encode the data\n",
    "te = TransactionEncoder()\n",
    "te_ary = te.fit(transactions).transform(transactions)\n",
    "df_encoded = pd.DataFrame(te_ary, columns=te.columns_)"
   ]
  },
  {
   "cell_type": "code",
   "execution_count": 7,
   "id": "35824f52-3f98-401c-90cc-dac6066ce906",
   "metadata": {},
   "outputs": [],
   "source": [
    "# Apply the Apriori algorithm\n",
    "frequent_itemsets = apriori(df_encoded, min_support=0.01, use_colnames=True)"
   ]
  },
  {
   "cell_type": "code",
   "execution_count": 8,
   "id": "b06d9940-717d-4ab0-ba1d-c1a4dcaf6aba",
   "metadata": {},
   "outputs": [],
   "source": [
    "# Generate association rules\n",
    "rules = association_rules(frequent_itemsets, metric=\"lift\", min_threshold=1)"
   ]
  },
  {
   "cell_type": "code",
   "execution_count": 9,
   "id": "a17428a2-a22f-4ef2-affa-7214b627b96c",
   "metadata": {},
   "outputs": [
    {
     "name": "stdout",
     "output_type": "stream",
     "text": [
      "       antecedents      consequents  antecedent support  consequent support  \\\n",
      "0  (mineral water)        (avocado)            0.238267            0.033200   \n",
      "1        (avocado)  (mineral water)            0.033200            0.238267   \n",
      "2           (cake)        (burgers)            0.081067            0.087200   \n",
      "3        (burgers)           (cake)            0.087200            0.081067   \n",
      "4      (chocolate)        (burgers)            0.163867            0.087200   \n",
      "\n",
      "    support  confidence      lift  representativity  leverage  conviction  \\\n",
      "0  0.011467    0.048125  1.449559               1.0  0.003556    1.015680   \n",
      "1  0.011467    0.345382  1.449559               1.0  0.003556    1.163629   \n",
      "2  0.011467    0.141447  1.622103               1.0  0.004398    1.063185   \n",
      "3  0.011467    0.131498  1.622103               1.0  0.004398    1.058068   \n",
      "4  0.017067    0.104150  1.194377               1.0  0.002777    1.018920   \n",
      "\n",
      "   zhangs_metric   jaccard  certainty  kulczynski  \n",
      "0       0.407144  0.044103   0.015438    0.196753  \n",
      "1       0.320785  0.044103   0.140620    0.196753  \n",
      "2       0.417349  0.073129   0.059430    0.136473  \n",
      "3       0.420154  0.073129   0.054881    0.136473  \n",
      "4       0.194639  0.072934   0.018569    0.149934  \n"
     ]
    }
   ],
   "source": [
    "# Display the rules\n",
    "print(rules.head())"
   ]
  },
  {
   "cell_type": "code",
   "execution_count": 10,
   "id": "f862adf6-38dc-4cf6-9173-864f93de398d",
   "metadata": {},
   "outputs": [
    {
     "name": "stdout",
     "output_type": "stream",
     "text": [
      "                    antecedents                 consequents  \\\n",
      "217               (ground beef)             (herb & pepper)   \n",
      "216             (herb & pepper)               (ground beef)   \n",
      "387               (ground beef)  (mineral water, spaghetti)   \n",
      "386  (mineral water, spaghetti)               (ground beef)   \n",
      "398  (mineral water, spaghetti)                 (olive oil)   \n",
      "399                 (olive oil)  (mineral water, spaghetti)   \n",
      "195         (frozen vegetables)                  (tomatoes)   \n",
      "194                  (tomatoes)         (frozen vegetables)   \n",
      "190                    (shrimp)         (frozen vegetables)   \n",
      "191         (frozen vegetables)                    (shrimp)   \n",
      "\n",
      "     antecedent support  consequent support   support  confidence      lift  \\\n",
      "217            0.098267            0.049467  0.016000    0.162822  3.291555   \n",
      "216            0.049467            0.098267  0.016000    0.323450  3.291555   \n",
      "387            0.098267            0.059733  0.017067    0.173677  2.907540   \n",
      "386            0.059733            0.098267  0.017067    0.285714  2.907540   \n",
      "398            0.059733            0.065733  0.010267    0.171875  2.614731   \n",
      "399            0.065733            0.059733  0.010267    0.156187  2.614731   \n",
      "195            0.095333            0.068400  0.016133    0.169231  2.474134   \n",
      "194            0.068400            0.095333  0.016133    0.235867  2.474134   \n",
      "190            0.071333            0.095333  0.016667    0.233645  2.450820   \n",
      "191            0.095333            0.071333  0.016667    0.174825  2.450820   \n",
      "\n",
      "     representativity  leverage  conviction  zhangs_metric   jaccard  \\\n",
      "217               1.0  0.011139    1.135402       0.772060  0.121457   \n",
      "216               1.0  0.011139    1.332841       0.732423  0.121457   \n",
      "387               1.0  0.011197    1.137893       0.727562  0.121097   \n",
      "386               1.0  0.011197    1.262427       0.697745  0.121097   \n",
      "398               1.0  0.006340    1.128171       0.656783  0.089120   \n",
      "399               1.0  0.006340    1.114306       0.661001  0.089120   \n",
      "195               1.0  0.009613    1.121370       0.658605  0.109304   \n",
      "194               1.0  0.009613    1.183913       0.639564  0.109304   \n",
      "190               1.0  0.009866    1.180480       0.637444  0.111111   \n",
      "191               1.0  0.009866    1.125418       0.654355  0.111111   \n",
      "\n",
      "     certainty  kulczynski  \n",
      "217   0.119255    0.243136  \n",
      "216   0.249723    0.243136  \n",
      "387   0.121182    0.229696  \n",
      "386   0.207875    0.229696  \n",
      "398   0.113610    0.164031  \n",
      "399   0.102581    0.164031  \n",
      "195   0.108234    0.202549  \n",
      "194   0.155344    0.202549  \n",
      "190   0.152887    0.204235  \n",
      "191   0.111441    0.204235  \n"
     ]
    }
   ],
   "source": [
    "# Sort rules by lift to see the most interesting rules\n",
    "sorted_rules = rules.sort_values(by='lift', ascending=False)\n",
    "print(sorted_rules.head(10)) # Display the top 10 rules"
   ]
  },
  {
   "cell_type": "markdown",
   "id": "0accf5dc-2d76-4358-af89-d33fae103ebe",
   "metadata": {},
   "source": [
    "Analysis of the Generated Rules\n",
    "\n",
    "Key Observations:\n",
    "\n",
    "- High Lift Rules: Several rules exhibit a high lift (greater than 2.0), indicating strong positive associations. These are particularly interesting as they suggest that the purchase of the antecedent significantly increases the likelihood of the consequent being purchased.\n",
    "\n",
    "- Specific Item Combinations: The rules highlight specific combinations of items that are frequently bought together. For example:\n",
    "\n",
    "(ground beef, herb & pepper) -> (ground beef): Customers who buy ground beef and herb & pepper are very likely to buy ground beef.\n",
    "\n",
    "(mineral water, spaghetti) -> (ground beef): Customers who buy mineral water and spaghetti often buy ground beef.\n",
    "\n",
    "(olive oil) -> (mineral water, spaghetti): Customers who buy olive oil are likely to buy mineral water and spaghetti.\n",
    "\n",
    "(frozen vegetables) -> (tomatoes): Customers who buy frozen vegetables often buy tomatoes.\n",
    "\n",
    "(frozen vegetables) -> (shrimp): Customers who buy frozen vegetables often buy shrimp.\n",
    "\n",
    "- Support and Confidence Variations: While some rules have high lift, their support and confidence values vary. This indicates that some associations, while strong, might occur less frequently than others.\n",
    "\n",
    "\n",
    "Interpretation and Insights into Customer Purchasing Behavior\n",
    "\n",
    "\n",
    "\n",
    "1) Complementary Items: The rules suggest that certain items are often purchased together as complementary products. For example:\n",
    "\n",
    "- Ground Beef, Herb & Pepper: This suggests that customers who purchase ground beef are likely to also buy herb & pepper, possibly for seasoning or enhancing the flavor of the meat.\n",
    "- Mineral Water, Spaghetti, Ground Beef: This combination indicates a potential meal pairing. Customers might be buying these items to prepare a pasta dish with ground beef.\n",
    "- Olive Oil, Mineral Water, Spaghetti: This combination also suggests a meal preparation context. Olive oil is often used in pasta dishes.\n",
    "- Frozen Vegetables, Tomatoes, Shrimp: This combination suggests that customers might be preparing meals with these ingredients, such as stir-fries or seafood dishes.\n",
    "  \n",
    "2) Meal Planning: The presence of meal-related combinations (e.g., pasta ingredients, vegetable and shrimp) indicates that customers often purchase items with a specific meal or recipe in mind.\n",
    "\n",
    "3) Cross-Selling Opportunities: Retailers can leverage these insights to improve cross-selling strategies. For example:\n",
    "\n",
    "- Placing herb & pepper near ground beef.\n",
    "- Bundling mineral water, spaghetti, and ground beef together.\n",
    "- Displaying olive oil near pasta products.\n",
    "- Suggesting tomato or shrimp recipes when customers buy frozen vegetables.\n",
    "\n",
    "4) Product Placement: The rules can guide product placement within the store to increase sales. Placing associated items near each other can encourage customers to purchase them together.\n",
    "\n",
    "5) Targeted Promotions: Retailers can create targeted promotions or discounts for product combinations that are frequently purchased together."
   ]
  },
  {
   "cell_type": "markdown",
   "id": "a4abd684-f822-4f3f-bdf0-3111d6673ca2",
   "metadata": {},
   "source": [
    "Interview Questions:\n",
    "\n",
    "1. What is lift and why is it important in Association rules?\n",
    "\n",
    "Lift: Lift measures how much more likely the consequent is purchased when the antecedent is purchased, while controlling for how popular the consequent is. It's calculated as:\n",
    "\n",
    "Lift(A -> C) = Confidence(A -> C) / Support(C)\n",
    "\n",
    "Importance: Lift helps identify rules that are truly interesting and not just due to the popularity of individual items. A lift greater than 1 indicates a positive association, a lift less than 1 indicates a negative association, and a lift of 1 indicates no association.\n",
    "\n",
    "2. . What is support and confidence? How do you calculate them?\n",
    "\n",
    "Support: Support measures the frequency of an itemset in the dataset. It's calculated as:\n",
    "\n",
    "Support(A) = Number of transactions containing A / Total number of transactions\n",
    "\n",
    "Confidence: Confidence measures how often the consequent appears in transactions that contain the antecedent. It's calculated as:\n",
    "\n",
    "Confidence(A -> C) = Support(A U C) / Support(A)\n",
    "\n",
    "3. What are some limitations or challenges of Association rules mining?\n",
    "\n",
    "- Computational Complexity: The Apriori algorithm can be computationally expensive for large datasets with many items.\n",
    "- Spurious Rules: With low support thresholds, many uninteresting or spurious rules may be generated.\n",
    "- Data Sparsity: If the dataset is sparse (many items are rarely purchased), it can be difficult to find meaningful associations \n",
    "- Interpretation: Interpreting a large number of rules can be challenging.\n",
    "- Temporal Aspects: Association rules don't consider the temporal order of purchases.\n",
    "- Handling Categorical Data: Association rules typically work with binary data (items present or absent). Handling categorical data with many categories can be challenging. "
   ]
  },
  {
   "cell_type": "markdown",
   "id": "6cef849c-14c5-4584-836f-09bcee0f6a0b",
   "metadata": {},
   "source": [
    "### Interpretation of the First Rule (Mineral Water -> Avocado)\n",
    "\n",
    "- Antecedents: (mineral water)\n",
    "- Consequents: (avocado)\n",
    "- Antecedent Support: 0.238267\n",
    "- Consequent Support: 0.033200\n",
    "- Support: 0.011467\n",
    "- Confidence: 0.048125\n",
    "- Lift: 1.449559\n",
    "- Interpretation:\n",
    "\n",
    "1) Antecedent Support: Mineral water appears in 23.8% of the transactions.\n",
    "2) Consequent Support: Avocado appears in 3.3% of the transactions.\n",
    "3) Support: The combined itemset (mineral water and avocado) appears in only 1.1% of the transactions.\n",
    "4) Confidence: Given that mineral water is purchased, avocado is also purchased only 4.8% of the time.\n",
    "5) Lift: Avocado is 1.45 times more likely to be purchased when mineral water is present, compared to its general popularity.\n",
    "\n",
    "\n",
    "Impact of Corrections:\n",
    "\n",
    "- Weak Association: values indicate a much weaker association between mineral water and avocado\n",
    "- Limited Practicality: The low support and confidence suggest that this association might not be practically significant for most business decisions.\n",
    "- Lift Still Relevant: While the lift is still above 1, indicating a positive association, the low support and confidence make this lift less impactful."
   ]
  },
  {
   "cell_type": "markdown",
   "id": "9dbde08c-a812-4742-9918-448deff98af9",
   "metadata": {},
   "source": [
    "\n",
    "### Interpretation of the Top 10 Lift Rules\n",
    "\n",
    "1) High Lift Values: Notice that all the lift values are above 2. This indicates strong positive associations between the antecedents and consequents, suggesting that these items are significantly more likely to be purchased together than expected by chance.\n",
    "\n",
    "2) Rule 217 (Herb & Pepper -> Ground Beef):\n",
    "\n",
    "- Lift: 3.291555\n",
    "This is the strongest association in top 10. It means that customers are 3.29 times more likely to purchase ground beef when they also buy herb & pepper.\n",
    "- Business Implication: This is a very strong cross-selling opportunity. Consider placing herb & pepper near ground beef, offering a discount when both are purchased, or promoting recipes that use both items.\n",
    "\n",
    "3) Rule 386 (Ground Beef, Mineral Water, Spaghetti -> Olive Oil):\n",
    "\n",
    "- Lift: 2.907540   \n",
    "This multi-item rule suggests that customers who purchase ground beef, mineral water, and spaghetti are significantly more likely to also buy olive oil.\n",
    "- Business Implication: This could indicate a pattern of customers buying ingredients for a specific type of meal (e.g., pasta with meat sauce). Consider creating meal bundles or recipe promotions that include these items.\n",
    "\n",
    "4) Rule 399   (Olive Oil -> Ground Beef, Mineral Water, Spaghetti):\n",
    "\n",
    "- Lift: 2.614731   \n",
    "This is the reverse of the previous rule. It shows that customers who buy olive oil are also more likely to purchase ground beef, mineral water, and spaghetti.\n",
    "- Business Implication: This reinforces the idea of a meal-related pattern. Place olive oil near these other ingredients to encourage cross-selling.\n",
    "\n",
    "- Other Rules: Each of the other top 10 rules also has a lift above 2, signifying strong associations. These rules highlight other interesting product combinations that could be leveraged for marketing and sales strategies."
   ]
  },
  {
   "cell_type": "code",
   "execution_count": null,
   "id": "52359523-b0db-4fb7-9cba-f6c8b8b5ec60",
   "metadata": {},
   "outputs": [],
   "source": []
  }
 ],
 "metadata": {
  "kernelspec": {
   "display_name": "Python [conda env:base] *",
   "language": "python",
   "name": "conda-base-py"
  },
  "language_info": {
   "codemirror_mode": {
    "name": "ipython",
    "version": 3
   },
   "file_extension": ".py",
   "mimetype": "text/x-python",
   "name": "python",
   "nbconvert_exporter": "python",
   "pygments_lexer": "ipython3",
   "version": "3.12.7"
  }
 },
 "nbformat": 4,
 "nbformat_minor": 5
}
